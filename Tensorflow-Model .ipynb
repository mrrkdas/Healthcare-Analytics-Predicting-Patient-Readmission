{
 "cells": [
  {
   "cell_type": "code",
   "execution_count": 1,
   "id": "938f123b-a909-4733-988a-2972873976cc",
   "metadata": {
    "tags": []
   },
   "outputs": [],
   "source": [
    "import tensorflow as tf\n",
    "import sklearn"
   ]
  },
  {
   "cell_type": "code",
   "execution_count": null,
   "id": "bed6d7cf-54eb-47e2-8b4b-84fd30184ae6",
   "metadata": {},
   "outputs": [],
   "source": [
    "from tf.keras.layers import Input, Dense\n",
    "from tf.keras import Sequential"
   ]
  },
  {
   "cell_type": "code",
   "execution_count": null,
   "id": "1e75c9c0-ba2b-4be1-99fc-ee7c2dc87a67",
   "metadata": {},
   "outputs": [],
   "source": []
  }
 ],
 "metadata": {
  "kernelspec": {
   "display_name": "Python 3 (ipykernel)",
   "language": "python",
   "name": "python3"
  },
  "language_info": {
   "codemirror_mode": {
    "name": "ipython",
    "version": 3
   },
   "file_extension": ".py",
   "mimetype": "text/x-python",
   "name": "python",
   "nbconvert_exporter": "python",
   "pygments_lexer": "ipython3",
   "version": "3.11.0"
  }
 },
 "nbformat": 4,
 "nbformat_minor": 5
}
