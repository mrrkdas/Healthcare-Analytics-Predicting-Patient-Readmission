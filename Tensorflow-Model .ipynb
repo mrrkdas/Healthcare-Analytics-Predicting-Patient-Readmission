{
 "cells": [
  {
   "cell_type": "code",
   "execution_count": 3,
   "id": "938f123b-a909-4733-988a-2972873976cc",
   "metadata": {
    "tags": []
   },
   "outputs": [],
   "source": [
    "import tensorflow as tf\n",
    "import sklearn"
   ]
  },
  {
   "cell_type": "code",
   "execution_count": 4,
   "id": "bed6d7cf-54eb-47e2-8b4b-84fd30184ae6",
   "metadata": {
    "tags": []
   },
   "outputs": [],
   "source": [
    "from tensorflow.keras.layers import Input, Dense\n",
    "from tensorflow.keras import Sequential"
   ]
  },
  {
   "cell_type": "code",
   "execution_count": 5,
   "id": "1e75c9c0-ba2b-4be1-99fc-ee7c2dc87a67",
   "metadata": {
    "tags": []
   },
   "outputs": [],
   "source": [
    "import pandas as pd\n",
    "\n",
    "df = pd.read_csv(\"hospital_resubmissions_final.csv\")"
   ]
  },
  {
   "cell_type": "code",
   "execution_count": 10,
   "id": "ad949e59-b0c4-4e95-a6a3-72131478ed56",
   "metadata": {
    "tags": []
   },
   "outputs": [
    {
     "data": {
      "text/html": [
       "<div>\n",
       "<style scoped>\n",
       "    .dataframe tbody tr th:only-of-type {\n",
       "        vertical-align: middle;\n",
       "    }\n",
       "\n",
       "    .dataframe tbody tr th {\n",
       "        vertical-align: top;\n",
       "    }\n",
       "\n",
       "    .dataframe thead th {\n",
       "        text-align: right;\n",
       "    }\n",
       "</style>\n",
       "<table border=\"1\" class=\"dataframe\">\n",
       "  <thead>\n",
       "    <tr style=\"text-align: right;\">\n",
       "      <th></th>\n",
       "      <th>Unnamed: 0</th>\n",
       "      <th>age</th>\n",
       "      <th>time_in_hospital</th>\n",
       "      <th>n_lab_procedures</th>\n",
       "      <th>n_procedures</th>\n",
       "      <th>n_medications</th>\n",
       "      <th>n_outpatient</th>\n",
       "      <th>n_inpatient</th>\n",
       "      <th>n_emergency</th>\n",
       "      <th>medical_specialty</th>\n",
       "      <th>diag_1</th>\n",
       "      <th>diag_2</th>\n",
       "      <th>diag_3</th>\n",
       "      <th>glucose_test</th>\n",
       "      <th>A1Ctest</th>\n",
       "      <th>change</th>\n",
       "      <th>diabetes_med</th>\n",
       "      <th>readmitted</th>\n",
       "    </tr>\n",
       "  </thead>\n",
       "  <tbody>\n",
       "    <tr>\n",
       "      <th>0</th>\n",
       "      <td>0</td>\n",
       "      <td>3</td>\n",
       "      <td>8</td>\n",
       "      <td>72</td>\n",
       "      <td>1</td>\n",
       "      <td>18</td>\n",
       "      <td>2</td>\n",
       "      <td>0</td>\n",
       "      <td>0</td>\n",
       "      <td>4</td>\n",
       "      <td>0</td>\n",
       "      <td>7</td>\n",
       "      <td>6</td>\n",
       "      <td>1</td>\n",
       "      <td>1</td>\n",
       "      <td>0</td>\n",
       "      <td>1</td>\n",
       "      <td>0</td>\n",
       "    </tr>\n",
       "    <tr>\n",
       "      <th>1</th>\n",
       "      <td>1</td>\n",
       "      <td>3</td>\n",
       "      <td>3</td>\n",
       "      <td>34</td>\n",
       "      <td>2</td>\n",
       "      <td>13</td>\n",
       "      <td>0</td>\n",
       "      <td>0</td>\n",
       "      <td>0</td>\n",
       "      <td>5</td>\n",
       "      <td>6</td>\n",
       "      <td>6</td>\n",
       "      <td>6</td>\n",
       "      <td>1</td>\n",
       "      <td>1</td>\n",
       "      <td>0</td>\n",
       "      <td>1</td>\n",
       "      <td>0</td>\n",
       "    </tr>\n",
       "    <tr>\n",
       "      <th>2</th>\n",
       "      <td>2</td>\n",
       "      <td>1</td>\n",
       "      <td>5</td>\n",
       "      <td>45</td>\n",
       "      <td>0</td>\n",
       "      <td>18</td>\n",
       "      <td>0</td>\n",
       "      <td>0</td>\n",
       "      <td>0</td>\n",
       "      <td>4</td>\n",
       "      <td>0</td>\n",
       "      <td>0</td>\n",
       "      <td>0</td>\n",
       "      <td>1</td>\n",
       "      <td>1</td>\n",
       "      <td>1</td>\n",
       "      <td>1</td>\n",
       "      <td>1</td>\n",
       "    </tr>\n",
       "    <tr>\n",
       "      <th>3</th>\n",
       "      <td>3</td>\n",
       "      <td>3</td>\n",
       "      <td>2</td>\n",
       "      <td>36</td>\n",
       "      <td>0</td>\n",
       "      <td>12</td>\n",
       "      <td>1</td>\n",
       "      <td>0</td>\n",
       "      <td>0</td>\n",
       "      <td>4</td>\n",
       "      <td>0</td>\n",
       "      <td>6</td>\n",
       "      <td>1</td>\n",
       "      <td>1</td>\n",
       "      <td>1</td>\n",
       "      <td>1</td>\n",
       "      <td>1</td>\n",
       "      <td>1</td>\n",
       "    </tr>\n",
       "    <tr>\n",
       "      <th>4</th>\n",
       "      <td>4</td>\n",
       "      <td>2</td>\n",
       "      <td>1</td>\n",
       "      <td>42</td>\n",
       "      <td>0</td>\n",
       "      <td>7</td>\n",
       "      <td>0</td>\n",
       "      <td>0</td>\n",
       "      <td>0</td>\n",
       "      <td>3</td>\n",
       "      <td>6</td>\n",
       "      <td>0</td>\n",
       "      <td>7</td>\n",
       "      <td>1</td>\n",
       "      <td>1</td>\n",
       "      <td>0</td>\n",
       "      <td>1</td>\n",
       "      <td>0</td>\n",
       "    </tr>\n",
       "  </tbody>\n",
       "</table>\n",
       "</div>"
      ],
      "text/plain": [
       "   Unnamed: 0  age  time_in_hospital  n_lab_procedures  n_procedures  \\\n",
       "0           0    3                 8                72             1   \n",
       "1           1    3                 3                34             2   \n",
       "2           2    1                 5                45             0   \n",
       "3           3    3                 2                36             0   \n",
       "4           4    2                 1                42             0   \n",
       "\n",
       "   n_medications  n_outpatient  n_inpatient  n_emergency  medical_specialty  \\\n",
       "0             18             2            0            0                  4   \n",
       "1             13             0            0            0                  5   \n",
       "2             18             0            0            0                  4   \n",
       "3             12             1            0            0                  4   \n",
       "4              7             0            0            0                  3   \n",
       "\n",
       "   diag_1  diag_2  diag_3  glucose_test  A1Ctest  change  diabetes_med  \\\n",
       "0       0       7       6             1        1       0             1   \n",
       "1       6       6       6             1        1       0             1   \n",
       "2       0       0       0             1        1       1             1   \n",
       "3       0       6       1             1        1       1             1   \n",
       "4       6       0       7             1        1       0             1   \n",
       "\n",
       "   readmitted  \n",
       "0           0  \n",
       "1           0  \n",
       "2           1  \n",
       "3           1  \n",
       "4           0  "
      ]
     },
     "execution_count": 10,
     "metadata": {},
     "output_type": "execute_result"
    }
   ],
   "source": [
    "df.head()"
   ]
  },
  {
   "cell_type": "code",
   "execution_count": null,
   "id": "f2e364c9-727b-4f96-a54e-2f8185686c22",
   "metadata": {},
   "outputs": [],
   "source": []
  },
  {
   "cell_type": "code",
   "execution_count": 6,
   "id": "baf5aa0c-370d-4e70-8b49-13ee0eee79dc",
   "metadata": {
    "tags": []
   },
   "outputs": [
    {
     "data": {
      "text/plain": [
       "(25000, 18)"
      ]
     },
     "execution_count": 6,
     "metadata": {},
     "output_type": "execute_result"
    }
   ],
   "source": [
    "df.shape"
   ]
  },
  {
   "cell_type": "code",
   "execution_count": 19,
   "id": "bd48ad66-c2db-47c6-9735-3a3bd5d68209",
   "metadata": {
    "tags": []
   },
   "outputs": [],
   "source": [
    "model = Sequential([\n",
    "    Input(shape = (17,)),\n",
    "    Dense(1)])"
   ]
  },
  {
   "cell_type": "code",
   "execution_count": 20,
   "id": "4e502b02-d2c4-4861-b276-1816e3eb7ede",
   "metadata": {
    "tags": []
   },
   "outputs": [
    {
     "name": "stdout",
     "output_type": "stream",
     "text": [
      "Model: \"sequential_1\"\n",
      "_________________________________________________________________\n",
      " Layer (type)                Output Shape              Param #   \n",
      "=================================================================\n",
      " dense_1 (Dense)             (None, 1)                 18        \n",
      "                                                                 \n",
      "=================================================================\n",
      "Total params: 18 (72.00 Byte)\n",
      "Trainable params: 18 (72.00 Byte)\n",
      "Non-trainable params: 0 (0.00 Byte)\n",
      "_________________________________________________________________\n"
     ]
    }
   ],
   "source": [
    "model.summary()"
   ]
  },
  {
   "cell_type": "code",
   "execution_count": 21,
   "id": "34062b05-e6b6-434e-a838-09cdf48c741e",
   "metadata": {
    "tags": []
   },
   "outputs": [],
   "source": [
    "model.compile(optimizer=\"Adam\", loss=\"mse\", metrics=[\"mae\"])"
   ]
  },
  {
   "cell_type": "code",
   "execution_count": 14,
   "id": "7f5b8827-e2d5-46cf-a2d4-d16f5b1aba4d",
   "metadata": {
    "tags": []
   },
   "outputs": [],
   "source": [
    "X = df.drop(\"readmitted\", axis = 1)\n",
    "y = df[[\"readmitted\"]]"
   ]
  },
  {
   "cell_type": "code",
   "execution_count": 16,
   "id": "5e7dbdd5-59cb-48fc-864e-685a9834b588",
   "metadata": {
    "tags": []
   },
   "outputs": [],
   "source": [
    "from sklearn.model_selection import train_test_split"
   ]
  },
  {
   "cell_type": "code",
   "execution_count": 17,
   "id": "3c3efecd-3558-4f7e-afd4-7500016490a4",
   "metadata": {
    "tags": []
   },
   "outputs": [],
   "source": [
    "X_train, X_test, y_train, y_test = train_test_split(X,y)"
   ]
  },
  {
   "cell_type": "code",
   "execution_count": 22,
   "id": "e4e88994-3342-493e-a6fe-6d562541cea2",
   "metadata": {
    "tags": []
   },
   "outputs": [
    {
     "name": "stdout",
     "output_type": "stream",
     "text": [
      "586/586 [==============================] - 0s 263us/step - loss: 634657.5000 - mae: 402.2835\n"
     ]
    },
    {
     "data": {
      "text/plain": [
       "<keras.src.callbacks.History at 0x127dadb50>"
      ]
     },
     "execution_count": 22,
     "metadata": {},
     "output_type": "execute_result"
    }
   ],
   "source": [
    "model.fit(X_train, y_train)"
   ]
  },
  {
   "cell_type": "code",
   "execution_count": null,
   "id": "1c2dabca-9cb2-43fb-8c67-1b99820b662c",
   "metadata": {},
   "outputs": [],
   "source": []
  },
  {
   "cell_type": "markdown",
   "id": "286bd197-643d-4ab9-8081-3d6fb3ac5db0",
   "metadata": {},
   "source": [
    "# Model 2 (Deeper Network)"
   ]
  },
  {
   "cell_type": "code",
   "execution_count": 24,
   "id": "12d1cd0e-34d8-44b5-a748-0c719b15e16e",
   "metadata": {
    "tags": []
   },
   "outputs": [],
   "source": [
    "model_2 = Sequential([\n",
    "    Input(shape = (17,)),\n",
    "    Dense(32, activation = \"relu\"),\n",
    "    Dense(64, activation = \"relu\"),\n",
    "    Dense(32, activation = \"relu\"),\n",
    "    Dense(1)\n",
    "])"
   ]
  },
  {
   "cell_type": "code",
   "execution_count": 26,
   "id": "c0eb404a-465e-40a1-9fde-e0999e5a06fa",
   "metadata": {
    "tags": []
   },
   "outputs": [
    {
     "name": "stdout",
     "output_type": "stream",
     "text": [
      "Model: \"sequential_2\"\n",
      "_________________________________________________________________\n",
      " Layer (type)                Output Shape              Param #   \n",
      "=================================================================\n",
      " dense_2 (Dense)             (None, 32)                576       \n",
      "                                                                 \n",
      " dense_3 (Dense)             (None, 64)                2112      \n",
      "                                                                 \n",
      " dense_4 (Dense)             (None, 32)                2080      \n",
      "                                                                 \n",
      " dense_5 (Dense)             (None, 1)                 33        \n",
      "                                                                 \n",
      "=================================================================\n",
      "Total params: 4801 (18.75 KB)\n",
      "Trainable params: 4801 (18.75 KB)\n",
      "Non-trainable params: 0 (0.00 Byte)\n",
      "_________________________________________________________________\n"
     ]
    }
   ],
   "source": [
    "model_2.summary()"
   ]
  },
  {
   "cell_type": "code",
   "execution_count": 29,
   "id": "eb055f45-9330-4ae9-9f81-24578af9243c",
   "metadata": {
    "tags": []
   },
   "outputs": [],
   "source": [
    "model_2.compile(optimizer = \"Adam\", loss = \"MAE\", metrics = [tf.keras.metrics.SparseCategoricalAccuracy()])"
   ]
  },
  {
   "cell_type": "code",
   "execution_count": null,
   "id": "1c4cf175-5ff7-4def-9b6e-8c04579ff6ba",
   "metadata": {},
   "outputs": [],
   "source": [
    "model."
   ]
  },
  {
   "cell_type": "code",
   "execution_count": 31,
   "id": "bd1d16f0-fad6-4ea7-90bc-2d420eacaac8",
   "metadata": {
    "tags": []
   },
   "outputs": [
    {
     "name": "stdout",
     "output_type": "stream",
     "text": [
      "Epoch 1/20\n",
      "782/782 [==============================] - 0s 261us/step - loss: 22.2382 - mae: 3.7895\n",
      "Epoch 2/20\n",
      "782/782 [==============================] - 0s 250us/step - loss: 21.3254 - mae: 3.7094\n",
      "Epoch 3/20\n",
      "782/782 [==============================] - 0s 251us/step - loss: 20.1082 - mae: 3.5983\n",
      "Epoch 4/20\n",
      "782/782 [==============================] - 0s 250us/step - loss: 18.4793 - mae: 3.4456\n",
      "Epoch 5/20\n",
      "782/782 [==============================] - 0s 251us/step - loss: 16.4470 - mae: 3.2501\n",
      "Epoch 6/20\n",
      "782/782 [==============================] - 0s 249us/step - loss: 14.0291 - mae: 2.9993\n",
      "Epoch 7/20\n",
      "782/782 [==============================] - 0s 249us/step - loss: 11.1788 - mae: 2.6743\n",
      "Epoch 8/20\n",
      "782/782 [==============================] - 0s 248us/step - loss: 8.1363 - mae: 2.2811\n",
      "Epoch 9/20\n",
      "782/782 [==============================] - 0s 250us/step - loss: 5.2855 - mae: 1.8334\n",
      "Epoch 10/20\n",
      "782/782 [==============================] - 0s 249us/step - loss: 3.0485 - mae: 1.3938\n",
      "Epoch 11/20\n",
      "782/782 [==============================] - 0s 247us/step - loss: 1.5874 - mae: 1.0076\n",
      "Epoch 12/20\n",
      "782/782 [==============================] - 0s 249us/step - loss: 0.8484 - mae: 0.7410\n",
      "Epoch 13/20\n",
      "782/782 [==============================] - 0s 248us/step - loss: 0.5246 - mae: 0.5914\n",
      "Epoch 14/20\n",
      "782/782 [==============================] - 0s 249us/step - loss: 0.3763 - mae: 0.5159\n",
      "Epoch 15/20\n",
      "782/782 [==============================] - 0s 248us/step - loss: 0.3439 - mae: 0.5020\n",
      "Epoch 16/20\n",
      "782/782 [==============================] - 0s 246us/step - loss: 0.4007 - mae: 0.5295\n",
      "Epoch 17/20\n",
      "782/782 [==============================] - 0s 248us/step - loss: 0.6784 - mae: 0.6290\n",
      "Epoch 18/20\n",
      "782/782 [==============================] - 0s 248us/step - loss: 0.8141 - mae: 0.6674\n",
      "Epoch 19/20\n",
      "782/782 [==============================] - 0s 248us/step - loss: 0.6128 - mae: 0.6010\n",
      "Epoch 20/20\n",
      "782/782 [==============================] - 0s 248us/step - loss: 0.5570 - mae: 0.5902\n"
     ]
    },
    {
     "data": {
      "text/plain": [
       "<keras.src.callbacks.History at 0x138145b50>"
      ]
     },
     "execution_count": 31,
     "metadata": {},
     "output_type": "execute_result"
    }
   ],
   "source": [
    "model.fit(X,y, epochs = 20)"
   ]
  },
  {
   "cell_type": "code",
   "execution_count": null,
   "id": "d63fff1c-1b95-4bd7-aa87-41b7f430c620",
   "metadata": {},
   "outputs": [],
   "source": []
  }
 ],
 "metadata": {
  "kernelspec": {
   "display_name": "Python 3 (ipykernel)",
   "language": "python",
   "name": "python3"
  },
  "language_info": {
   "codemirror_mode": {
    "name": "ipython",
    "version": 3
   },
   "file_extension": ".py",
   "mimetype": "text/x-python",
   "name": "python",
   "nbconvert_exporter": "python",
   "pygments_lexer": "ipython3",
   "version": "3.11.0"
  }
 },
 "nbformat": 4,
 "nbformat_minor": 5
}
